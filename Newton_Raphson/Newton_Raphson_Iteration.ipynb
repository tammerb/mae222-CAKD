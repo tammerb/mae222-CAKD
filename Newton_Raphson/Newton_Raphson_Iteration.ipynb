{
 "cells": [
  {
   "cell_type": "code",
   "execution_count": null,
   "metadata": {},
   "outputs": [],
   "source": [
    "% Newton Raphson Solution of n Equaitons F(x)=0 for n Variables x\n",
    "% Clear Everything\n",
    "clearvars;          % Clear all variables from the workspace\n",
    "clc;                % Clear Command Window\n",
    "\n",
    "%This case use a 3 dimension as an example (This code works for n-dimensions)\n",
    "\n",
    "%define variable\n",
    "syms x1 x2 x3;      % Define varible base on number of dimension (x1 ... xn)\n",
    "sym_x = [x1 x2 x3].'; % System of variable x"
   ]
  },
  {
   "cell_type": "code",
   "execution_count": null,
   "metadata": {},
   "outputs": [],
   "source": [
    "%1. Test a system of linear equation\n",
    "disp('Test 1')\n",
    "xtol = 0.001;  % Enter error tolerance in satisfying F(x)=0\n",
    "x0 = [0.1 0.1 0.1].';   % Enter initial solution estimate 1xn matrix\n",
    "sym_F = [8*x1 4*x2 x3-4].';   % Enter system of function of F(x)\n",
    "[counter, x0] = newtonRaphson(sym_x, xtol, x0, sym_F)"
   ]
  },
  {
   "cell_type": "code",
   "execution_count": null,
   "metadata": {},
   "outputs": [],
   "source": [
    "%2. Test a system of nonlinear equation\n",
    "disp('Test 2')\n",
    "xtol = 0.001;  % Enter error tolerance in satisfying F(x)=0\n",
    "x0 = [0.1 0.1 0.1].';   % Enter initial solution estimate 1xn matrix\n",
    "sym_F = [cos(x1)*sin(x2) cos(x2)^2 4*x1*cos(x3)].';   % Enter system of function of F(x)\n",
    "[counter, x0] = newtonRaphson(sym_x, xtol, x0, sym_F)"
   ]
  },
  {
   "cell_type": "code",
   "execution_count": null,
   "metadata": {},
   "outputs": [],
   "source": [
    "%3. Test a system of 3rd oreder polynomials\n",
    "disp('Test 3')\n",
    "xtol = 0.001;  % Enter error tolerance in satisfying F(x)=0\n",
    "x0 = [0.1 0.1 0.1].';   % Enter initial solution estimate 1xn matrix\n",
    "sym_F = [2*x1^2+x2-x3 x3^3-4 x2^2+4*x2-1].';   % Enter system of function of F(x)\n",
    "[counter, x0] = newtonRaphson(sym_x, xtol, x0, sym_F)"
   ]
  },
  {
   "cell_type": "code",
   "execution_count": null,
   "metadata": {},
   "outputs": [],
   "source": [
    "%4 Test the algorithm with a trig function that doesn't converge\n",
    "disp('Test 4')\n",
    "xtol = 0.001;  % Enter error tolerance in satisfying F(x)=0\n",
    "x0 = [0.1 0.1 0.1].';   % Enter initial solution estimate 1xn matrix\n",
    "sym_F = [cos(x1)*tan(x2) (cos(x2))^2 4*x1*cos(x3)].';   % Enter system of function of F(x)\n",
    "[counter, x0]=newtonRaphson(sym_x, xtol, x0, sym_F)"
   ]
  },
  {
   "cell_type": "code",
   "execution_count": null,
   "metadata": {},
   "outputs": [],
   "source": [
    "function [counter, x0] = newtonRaphson(sym_x, xtol, x0, sym_F)\n",
    "\n",
    "H=jacobian(sym_F, sym_x);  %Take Deribative of F(x) to obatain Phiq(x)\n",
    "counter=0;   %Counter for Number of iteration\n",
    "err=xtol+1;  %Set initial error greater than error tolerance\n",
    "\n",
    "while err > xtol %some thing else Iteration for x, through line 15\n",
    "    if counter < 20\n",
    "        F_eval=vpa(subs(sym_F,sym_x,x0));  %Evaluate F(x) at x0\n",
    "        Fx_eval=vpa(subs(H,sym_x,x0));  %Evaluate Fx(x) at x0\n",
    "        delx = inv(Fx_eval)*F_eval;  %Evaluate delta x\n",
    "        x0=x0-delx;  %Get a set of new values for iteration/solution\n",
    "        err=norm(F_eval); %Calculate the error using 2 norm\n",
    "        counter=counter+1;\n",
    "    else\n",
    "        disp('The Newton-Raphson take too many steps!')\n",
    "        disp('Please check for the initial codition, error tolerance, and the convergence!')\n",
    "        break\n",
    "    end\n",
    "end\n",
    "end"
   ]
  },
  {
   "cell_type": "code",
   "execution_count": null,
   "metadata": {},
   "outputs": [],
   "source": []
  }
 ],
 "metadata": {
  "kernelspec": {
   "display_name": "Matlab",
   "language": "matlab",
   "name": "matlab"
  },
  "language_info": {
   "codemirror_mode": "octave",
   "file_extension": ".m",
   "help_links": [
    {
     "text": "MetaKernel Magics",
     "url": "https://metakernel.readthedocs.io/en/latest/source/README.html"
    }
   ],
   "mimetype": "text/x-octave",
   "name": "matlab",
   "version": "0.16.9"
  }
 },
 "nbformat": 4,
 "nbformat_minor": 4
}
