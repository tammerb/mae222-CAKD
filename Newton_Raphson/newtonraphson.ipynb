{
 "cells": [
  {
   "cell_type": "code",
   "execution_count": 1,
   "metadata": {},
   "outputs": [],
   "source": [
    "import sympy as sm"
   ]
  },
  {
   "cell_type": "code",
   "execution_count": 2,
   "metadata": {},
   "outputs": [],
   "source": [
    "# Helper function to print the iteration progress.\n",
    "def progress(i):\n",
    "    switch ={\n",
    "        1:\"Completed 1 iteration.\",\n",
    "        2:\"Completed 2 iterations.\",\n",
    "        5: \"Completed 5 iterations.\",\n",
    "        10: \"Completed 10 iterations\",\n",
    "        50: \"Completed 50 iterations\",\n",
    "        100: \"Completed 100 iterations\",\n",
    "        200: \"Completed 200 iterations\",\n",
    "        300: \"Completed 300 iterations\",\n",
    "        500: \"Completed 500 iterations\",\n",
    "        750: \"Completed 750 iterations\",\n",
    "    }\n",
    "    if switch.get(i):\n",
    "        return switch.get(i)"
   ]
  },
  {
   "cell_type": "code",
   "execution_count": 3,
   "metadata": {},
   "outputs": [],
   "source": [
    "def newtonRaphson(F, X, X0, xtol=0.001, N=1000): \n",
    "    \n",
    "    [dim, _] = X.shape\n",
    "\n",
    "    if not (isinstance(F, sm.Matrix) and isinstance(X, sm.Matrix)):\n",
    "        print(\"Inputs are not matrices\")\n",
    "        return\n",
    "    \n",
    "    if not F.shape == X.shape and F.shape == X0.shape:\n",
    "        print(\"Dimensions of vectors F, X and X0 do not match\")\n",
    "    \n",
    "    counter = 1\n",
    "    while N:       \n",
    "        Fx = (F).jacobian(X)\n",
    "        \n",
    "        X0_dict = {x0: X0[0], x1: X0[1], x2: X0[2]}\n",
    "        Fe= F.subs(X0_dict)\n",
    "        \n",
    "        Fxe = Fx.subs(X0_dict)\n",
    "        \n",
    "        if Fxe.det() == 0:\n",
    "            print(\"Newton-Raphson failed. The Jacobian matrix evaluated at the estimate is not invertible.\")\n",
    "            return\n",
    "        else:\n",
    "            X1 = X0 - Fxe.inv()*Fe # uses Gaussian Elimination by default\n",
    "        \n",
    "        X1_dict = {x0: X1[0], x1: X1[1], x2: X1[2]}\n",
    "        Fe_1= F.subs(X1_dict)\n",
    "        \n",
    "        if (Fe_1.norm(1) <= xtol):\n",
    "            print(\"Success. Number of iterations: \" + str(counter))\n",
    "            return X1\n",
    "        \n",
    "        prog = progress(counter)\n",
    "        if prog:\n",
    "            print(prog)\n",
    "        counter += 1\n",
    "        N -= 1\n",
    "        X0 = X1\n",
    "    print(\"Newton-Raphson failed after \" + str(counter - 1) + \" iterations. Try a increasing the maximum number of iterations, increasing the error tolerance, or using a better starting estimate.\")\n",
    "    return"
   ]
  },
  {
   "cell_type": "markdown",
   "metadata": {},
   "source": [
    "#### 1. Test the algorithm on a system of linear equations:\n",
    "\n",
    "Define the 3-vector of unkowns $x = \\big[x_0\\ x_1\\ x_2\\ \\big]^T$:"
   ]
  },
  {
   "cell_type": "code",
   "execution_count": 4,
   "metadata": {},
   "outputs": [
    {
     "data": {
      "text/latex": [
       "$\\displaystyle \\left[\\begin{matrix}x_{0}\\\\x_{1}\\\\x_{2}\\end{matrix}\\right]$"
      ],
      "text/plain": [
       "Matrix([\n",
       "[x_0],\n",
       "[x_1],\n",
       "[x_2]])"
      ]
     },
     "execution_count": 4,
     "metadata": {},
     "output_type": "execute_result"
    }
   ],
   "source": [
    "X, x0, x1, x2 = sm.symbols('X x_0 x_1 x_2')\n",
    "X = sm.Matrix([x0, x1, x2])\n",
    "X"
   ]
  },
  {
   "cell_type": "markdown",
   "metadata": {},
   "source": [
    "Then define the system of 3 linear equations $\\textbf{F(x)}$ to be solved for $\\textbf{x}$:"
   ]
  },
  {
   "cell_type": "code",
   "execution_count": 5,
   "metadata": {},
   "outputs": [
    {
     "data": {
      "text/latex": [
       "$\\displaystyle \\left[\\begin{matrix}8 x_{0}\\\\4 x_{1}\\\\x_{2} - 4\\end{matrix}\\right]$"
      ],
      "text/plain": [
       "Matrix([\n",
       "[  8*x_0],\n",
       "[  4*x_1],\n",
       "[x_2 - 4]])"
      ]
     },
     "execution_count": 5,
     "metadata": {},
     "output_type": "execute_result"
    }
   ],
   "source": [
    "F = sm.Matrix([[8*x0],\n",
    "           [4*x1],\n",
    "           [x2 - 4]])\n",
    "F"
   ]
  },
  {
   "cell_type": "markdown",
   "metadata": {},
   "source": [
    "Then define the vector of estimates:"
   ]
  },
  {
   "cell_type": "code",
   "execution_count": 6,
   "metadata": {},
   "outputs": [
    {
     "data": {
      "text/latex": [
       "$\\displaystyle \\left[\\begin{matrix}0.1\\\\0.1\\\\0.1\\end{matrix}\\right]$"
      ],
      "text/plain": [
       "Matrix([\n",
       "[0.1],\n",
       "[0.1],\n",
       "[0.1]])"
      ]
     },
     "execution_count": 6,
     "metadata": {},
     "output_type": "execute_result"
    }
   ],
   "source": [
    "X0 = sm.Matrix([0.1, 0.1, 0.1])\n",
    "X0"
   ]
  },
  {
   "cell_type": "markdown",
   "metadata": {},
   "source": [
    "Then pass $F$, $X$, and $X_0$ to the `newtonRaphson()` function, which returns the solution:"
   ]
  },
  {
   "cell_type": "code",
   "execution_count": 7,
   "metadata": {},
   "outputs": [
    {
     "name": "stdout",
     "output_type": "stream",
     "text": [
      "Success. Number of iterations: 1\n"
     ]
    },
    {
     "data": {
      "text/latex": [
       "$\\displaystyle \\left[\\begin{matrix}0\\\\0\\\\4.0\\end{matrix}\\right]$"
      ],
      "text/plain": [
       "Matrix([\n",
       "[  0],\n",
       "[  0],\n",
       "[4.0]])"
      ]
     },
     "execution_count": 7,
     "metadata": {},
     "output_type": "execute_result"
    }
   ],
   "source": [
    "newtonRaphson(F, X, X0)"
   ]
  },
  {
   "cell_type": "markdown",
   "metadata": {},
   "source": [
    "#### 2. Test the algorithm on a nonlinear function:"
   ]
  },
  {
   "cell_type": "code",
   "execution_count": 8,
   "metadata": {},
   "outputs": [
    {
     "data": {
      "text/latex": [
       "$\\displaystyle \\left[\\begin{matrix}\\sin{\\left(x_{1} \\right)} \\cos{\\left(x_{0} \\right)}\\\\\\cos^{2}{\\left(x_{1} \\right)}\\\\4 x_{0} \\cos{\\left(x_{2} \\right)}\\end{matrix}\\right]$"
      ],
      "text/plain": [
       "Matrix([\n",
       "[sin(x_1)*cos(x_0)],\n",
       "[      cos(x_1)**2],\n",
       "[   4*x_0*cos(x_2)]])"
      ]
     },
     "execution_count": 8,
     "metadata": {},
     "output_type": "execute_result"
    }
   ],
   "source": [
    "F_trig = sm.Matrix([[sm.cos(x0)*sm.sin(x1)],\n",
    "                    [(sm.cos(x1))**2],\n",
    "                    [4*x0*sm.cos(x2)]])\n",
    "F_trig"
   ]
  },
  {
   "cell_type": "markdown",
   "metadata": {},
   "source": [
    "The 3-vector of unknowns $\\textbf{x}$ and the solution estimate $\\textbf{x}_0$ are already defined above, and can be immediately passed into the algorithm here:"
   ]
  },
  {
   "cell_type": "code",
   "execution_count": 9,
   "metadata": {},
   "outputs": [
    {
     "name": "stdout",
     "output_type": "stream",
     "text": [
      "Completed 1 iteration.\n",
      "Completed 2 iterations.\n",
      "Success. Number of iterations: 5\n"
     ]
    },
    {
     "data": {
      "text/latex": [
       "$\\displaystyle \\left[\\begin{matrix}504.225621000936\\\\4.73414581917817\\\\50339.3098847961\\end{matrix}\\right]$"
      ],
      "text/plain": [
       "Matrix([\n",
       "[504.225621000936],\n",
       "[4.73414581917817],\n",
       "[50339.3098847961]])"
      ]
     },
     "execution_count": 9,
     "metadata": {},
     "output_type": "execute_result"
    }
   ],
   "source": [
    "newtonRaphson(F_trig, X, X0)"
   ]
  },
  {
   "cell_type": "markdown",
   "metadata": {},
   "source": [
    "#### 3. Test the algorithm on a system of 3rd-order polynomials:"
   ]
  },
  {
   "cell_type": "code",
   "execution_count": 10,
   "metadata": {},
   "outputs": [
    {
     "data": {
      "text/latex": [
       "$\\displaystyle \\left[\\begin{matrix}2 x_{0}^{2} + x_{1} - x_{2}\\\\x_{2}^{3} - 4\\\\x_{1}^{2} + 4 x_{1} - 1\\end{matrix}\\right]$"
      ],
      "text/plain": [
       "Matrix([\n",
       "[2*x_0**2 + x_1 - x_2],\n",
       "[          x_2**3 - 4],\n",
       "[  x_1**2 + 4*x_1 - 1]])"
      ]
     },
     "execution_count": 10,
     "metadata": {},
     "output_type": "execute_result"
    }
   ],
   "source": [
    "F_poly = sm.Matrix([[2*x0**2 + x1 - x2],\n",
    "                    [x2**3 - 4],\n",
    "                    [x1**2 + 4*x1 - 1]])\n",
    "F_poly"
   ]
  },
  {
   "cell_type": "code",
   "execution_count": 11,
   "metadata": {},
   "outputs": [
    {
     "name": "stdout",
     "output_type": "stream",
     "text": [
      "Completed 1 iteration.\n",
      "Completed 2 iterations.\n",
      "Completed 5 iterations.\n",
      "Completed 10 iterations\n",
      "Success. Number of iterations: 15\n"
     ]
    },
    {
     "data": {
      "text/latex": [
       "$\\displaystyle \\left[\\begin{matrix}0.821989648050178\\\\0.23606797749979\\\\1.58740158419554\\end{matrix}\\right]$"
      ],
      "text/plain": [
       "Matrix([\n",
       "[0.821989648050178],\n",
       "[ 0.23606797749979],\n",
       "[ 1.58740158419554]])"
      ]
     },
     "execution_count": 11,
     "metadata": {},
     "output_type": "execute_result"
    }
   ],
   "source": [
    "X0 = sm.Matrix([0.1, 0.1, 0.1])\n",
    "newtonRaphson(F_poly, X, X0)"
   ]
  },
  {
   "cell_type": "markdown",
   "metadata": {},
   "source": [
    "#### 4a. Test the algorithm with a trig function that doesn't converge after 1000 iterations using $x_0 = [0.1\\ 0.1\\ 0.1]^T$ as the starting estimates:"
   ]
  },
  {
   "cell_type": "code",
   "execution_count": 12,
   "metadata": {},
   "outputs": [],
   "source": [
    "F_trig_bad = sm.Matrix([[sm.cos(x0)*sm.tan(x1)],\n",
    "                    [(sm.cos(x1))**2],\n",
    "                    [4*x0*sm.cos(x2)]])\n",
    "X0 = sm.Matrix([0.1, 0.1, 0.1])"
   ]
  },
  {
   "cell_type": "code",
   "execution_count": 13,
   "metadata": {},
   "outputs": [
    {
     "name": "stdout",
     "output_type": "stream",
     "text": [
      "Completed 1 iteration.\n",
      "Completed 2 iterations.\n",
      "Completed 5 iterations.\n",
      "Completed 10 iterations\n",
      "Completed 50 iterations\n",
      "Completed 100 iterations\n",
      "Completed 200 iterations\n",
      "Completed 300 iterations\n",
      "Completed 500 iterations\n",
      "Completed 750 iterations\n",
      "Newton-Raphson failed after 1000 iterations. Try a increasing the maximum number of iterations, increasing the error tolerance, or using a better starting estimate.\n"
     ]
    }
   ],
   "source": [
    "newtonRaphson(F_trig_bad, X, X0)"
   ]
  },
  {
   "cell_type": "markdown",
   "metadata": {},
   "source": [
    "#### 4b. Test the algorithm with a trig function where the determinant of the Jacobian $|\\textbf{F}_x\\big(\\textbf{x}^j\\big)|=0$ and therefore equation (2.2.60) cannot be evaluated:"
   ]
  },
  {
   "cell_type": "code",
   "execution_count": 14,
   "metadata": {},
   "outputs": [],
   "source": [
    "F_trig_bad = sm.Matrix([[sm.cos(x0)*sm.tan(x1)],\n",
    "                    [(sm.cos(x1))**2],\n",
    "                    [4*x0*sm.cos(x2)]])\n",
    "X0_bad = sm.Matrix([0.1, 0, 0.1])"
   ]
  },
  {
   "cell_type": "markdown",
   "metadata": {},
   "source": [
    "To show that the determinant of the Jacobian is zero, part of the Newton-Raphson algorithm is computed below before calling the algorithm."
   ]
  },
  {
   "cell_type": "code",
   "execution_count": 15,
   "metadata": {},
   "outputs": [
    {
     "data": {
      "text/latex": [
       "$\\displaystyle \\left[\\begin{matrix}0 & 0.995004165278026 & 0\\\\0 & 0 & 0\\\\3.9800166611121 & 0 & -0.0399333666587313\\end{matrix}\\right]$"
      ],
      "text/plain": [
       "Matrix([\n",
       "[              0, 0.995004165278026,                   0],\n",
       "[              0,                 0,                   0],\n",
       "[3.9800166611121,                 0, -0.0399333666587313]])"
      ]
     },
     "execution_count": 15,
     "metadata": {},
     "output_type": "execute_result"
    }
   ],
   "source": [
    "Fx = (F_trig_bad).jacobian(X)\n",
    "        \n",
    "X0_dict = {x0: X0_bad[0], x1: X0_bad[1], x2: X0_bad[2]}\n",
    "Fe= F.subs(X0_dict)\n",
    "        \n",
    "Fxe = Fx.subs(X0_dict)\n",
    "Fxe"
   ]
  },
  {
   "cell_type": "code",
   "execution_count": 16,
   "metadata": {},
   "outputs": [
    {
     "data": {
      "text/latex": [
       "$\\displaystyle 0$"
      ],
      "text/plain": [
       "0"
      ]
     },
     "execution_count": 16,
     "metadata": {},
     "output_type": "execute_result"
    }
   ],
   "source": [
    "Fxe.det()    # determinant = 0"
   ]
  },
  {
   "cell_type": "code",
   "execution_count": 17,
   "metadata": {},
   "outputs": [
    {
     "name": "stdout",
     "output_type": "stream",
     "text": [
      "Newton-Raphson failed. The Jacobian matrix evaluated at the estimate is not invertible.\n"
     ]
    }
   ],
   "source": [
    "newtonRaphson(F_trig_bad, X, X0_bad)"
   ]
  },
  {
   "cell_type": "markdown",
   "metadata": {},
   "source": [
    "#### 4c. Test the algorithm with a trig function where the estimate leads to a solution when the error tolerance is increased to 0.5, but does not converge when the error tolerance is set to 0.1:"
   ]
  },
  {
   "cell_type": "code",
   "execution_count": 18,
   "metadata": {},
   "outputs": [
    {
     "name": "stdout",
     "output_type": "stream",
     "text": [
      "Completed 1 iteration.\n",
      "Completed 2 iterations.\n",
      "Completed 5 iterations.\n",
      "Completed 10 iterations\n",
      "Success. Number of iterations: 46\n"
     ]
    },
    {
     "data": {
      "text/latex": [
       "$\\displaystyle \\left[\\begin{matrix}58.1194640914112\\\\1.57079632679489\\\\23.5619449019235\\end{matrix}\\right]$"
      ],
      "text/plain": [
       "Matrix([\n",
       "[58.1194640914112],\n",
       "[1.57079632679489],\n",
       "[23.5619449019235]])"
      ]
     },
     "execution_count": 18,
     "metadata": {},
     "output_type": "execute_result"
    }
   ],
   "source": [
    "X0_good = sm.Matrix([0.5, 0.5, 0.5])\n",
    "xtol_good = 0.5\n",
    "newtonRaphson(F_trig_bad, X, X0_good, xtol_good)"
   ]
  },
  {
   "cell_type": "code",
   "execution_count": 19,
   "metadata": {},
   "outputs": [
    {
     "name": "stdout",
     "output_type": "stream",
     "text": [
      "Completed 1 iteration.\n",
      "Completed 2 iterations.\n",
      "Completed 5 iterations.\n",
      "Completed 10 iterations\n",
      "Completed 50 iterations\n",
      "Completed 100 iterations\n",
      "Completed 200 iterations\n",
      "Completed 300 iterations\n",
      "Completed 500 iterations\n",
      "Completed 750 iterations\n",
      "Newton-Raphson failed after 1000 iterations. Try a increasing the maximum number of iterations, increasing the error tolerance, or using a better starting estimate.\n"
     ]
    }
   ],
   "source": [
    "X0_good = sm.Matrix([0.5, 0.5, 0.5])\n",
    "xtol_bad = 0.1\n",
    "newtonRaphson(F_trig_bad, X, X0_good, xtol_bad)"
   ]
  },
  {
   "cell_type": "code",
   "execution_count": null,
   "metadata": {},
   "outputs": [],
   "source": []
  },
  {
   "cell_type": "code",
   "execution_count": null,
   "metadata": {},
   "outputs": [],
   "source": []
  },
  {
   "cell_type": "code",
   "execution_count": null,
   "metadata": {},
   "outputs": [],
   "source": []
  },
  {
   "cell_type": "code",
   "execution_count": null,
   "metadata": {},
   "outputs": [],
   "source": []
  },
  {
   "cell_type": "code",
   "execution_count": null,
   "metadata": {},
   "outputs": [],
   "source": []
  },
  {
   "cell_type": "code",
   "execution_count": null,
   "metadata": {},
   "outputs": [],
   "source": []
  },
  {
   "cell_type": "code",
   "execution_count": null,
   "metadata": {},
   "outputs": [],
   "source": []
  },
  {
   "cell_type": "code",
   "execution_count": null,
   "metadata": {},
   "outputs": [],
   "source": []
  },
  {
   "cell_type": "code",
   "execution_count": null,
   "metadata": {},
   "outputs": [],
   "source": []
  },
  {
   "cell_type": "code",
   "execution_count": null,
   "metadata": {},
   "outputs": [],
   "source": []
  }
 ],
 "metadata": {
  "kernelspec": {
   "display_name": "Python 3",
   "language": "python",
   "name": "python3"
  },
  "language_info": {
   "codemirror_mode": {
    "name": "ipython",
    "version": 3
   },
   "file_extension": ".py",
   "mimetype": "text/x-python",
   "name": "python",
   "nbconvert_exporter": "python",
   "pygments_lexer": "ipython3",
   "version": "3.7.8"
  }
 },
 "nbformat": 4,
 "nbformat_minor": 4
}
