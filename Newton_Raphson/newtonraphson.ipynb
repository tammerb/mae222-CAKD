{
 "cells": [
  {
   "cell_type": "code",
   "execution_count": 1,
   "metadata": {},
   "outputs": [],
   "source": [
    "import sympy as sm"
   ]
  },
  {
   "cell_type": "code",
   "execution_count": 2,
   "metadata": {},
   "outputs": [],
   "source": [
    "def newtonRaphson2D(F, x, x0=0.1, xtol=0.001, N=1000): \n",
    "    counter = 0\n",
    "    while N:\n",
    "        Fx = sm.diff(F, x)\n",
    "        Fe= F.subs(x, x0)\n",
    "        Fxe = Fx.subs(x, x0)\n",
    "        \n",
    "        if not Fxe:\n",
    "            print(\"Derivative is zero, procedure completed unsuccessfully.\")\n",
    "            return \n",
    "        x1 = x0 - F.subs(x, x0)/Fxe\n",
    "        \n",
    "        if (sm.Abs(x1 - x0) <= xtol):\n",
    "            print(\"Success. Number of iterations: \" + str(counter))\n",
    "            print(\"x = \" + str(x1))\n",
    "            return x0\n",
    "        counter += 1\n",
    "        x0 = x1\n",
    "        x0 = x0.evalf()"
   ]
  },
  {
   "cell_type": "code",
   "execution_count": 3,
   "metadata": {},
   "outputs": [
    {
     "data": {
      "text/latex": [
       "$\\displaystyle 3 x - 12$"
      ],
      "text/plain": [
       "3*x - 12"
      ]
     },
     "execution_count": 3,
     "metadata": {},
     "output_type": "execute_result"
    }
   ],
   "source": [
    "x = sm.symbols('x', real=True)\n",
    "3*x - 12"
   ]
  },
  {
   "cell_type": "code",
   "execution_count": 4,
   "metadata": {},
   "outputs": [
    {
     "data": {
      "text/latex": [
       "$\\displaystyle x^{2} - 5 x + 6$"
      ],
      "text/plain": [
       "x**2 - 5*x + 6"
      ]
     },
     "execution_count": 4,
     "metadata": {},
     "output_type": "execute_result"
    }
   ],
   "source": [
    "x**2 - 5*x + 6"
   ]
  },
  {
   "cell_type": "code",
   "execution_count": 5,
   "metadata": {},
   "outputs": [
    {
     "name": "stdout",
     "output_type": "stream",
     "text": [
      "Success. Number of iterations: 1\n",
      "x = 4.00000000000000\n",
      "Success. Number of iterations: 5\n",
      "x = 1.99999999999823\n"
     ]
    }
   ],
   "source": [
    "x_test1 = newtonRaphson2D(3*x - 12, x)\n",
    "assert x_test1 == 4.0\n",
    "\n",
    "x_test2 = newtonRaphson2D(x**2 - 5*x + 6, x)\n",
    "assert x_test2 < 2.1 and x_test2 > 1.9"
   ]
  },
  {
   "cell_type": "code",
   "execution_count": 6,
   "metadata": {},
   "outputs": [
    {
     "name": "stdout",
     "output_type": "stream",
     "text": [
      "Success. Number of iterations: 3\n",
      "x = 1.99914846747926\n"
     ]
    }
   ],
   "source": [
    "x_test3 = newtonRaphson2D(x**2- 5*x +6, x, 0.2, .1, 3)"
   ]
  },
  {
   "cell_type": "code",
   "execution_count": 7,
   "metadata": {},
   "outputs": [],
   "source": [
    "def newtonRaphson(F, X, X0, xtol=0.001, N=1000): \n",
    "    \n",
    "    [dim, _] = X.shape\n",
    "\n",
    "    if not (isinstance(F, sm.Matrix) and isinstance(X, sm.Matrix)):\n",
    "        print(\"Inputs are not matrices\")\n",
    "        return\n",
    "    \n",
    "    if not F.shape == X.shape and F.shape == X0.shape:\n",
    "        print(\"Dimensions of vectors F, X and X0 do not match\")\n",
    "    \n",
    "    counter = 0\n",
    "    while N:\n",
    "        Fx = (F).jacobian(X)\n",
    "        \n",
    "        X0_dict = {x0: X0[0], x1: X0[1], x2: X0[2]}\n",
    "        Fe= F.subs(X0_dict)\n",
    "        \n",
    "        Fxe = Fx.subs(X0_dict)\n",
    "        \n",
    "        if not Fxe:\n",
    "            print(\"Derivative is zero, procedure completed unsuccessfully.\")\n",
    "            return \n",
    "        X1 = X0 - Fxe.inv()*Fe  # uses Gaussian Elimination by default\n",
    "        \n",
    "        X1_dict = {x0: X1[0], x1: X1[1], x2: X1[2]}\n",
    "        Fe_1= F.subs(X1_dict)\n",
    "        \n",
    "        if (Fe_1.norm(1) <= xtol):\n",
    "            print(\"Success. Number of iterations: \" + str(counter))\n",
    "            print(\"x = \" + str(X1))\n",
    "            return X1\n",
    "        counter += 1\n",
    "        X0 = X1"
   ]
  },
  {
   "cell_type": "code",
   "execution_count": 8,
   "metadata": {},
   "outputs": [
    {
     "data": {
      "text/latex": [
       "$\\displaystyle \\left[\\begin{matrix}x_{0}\\\\x_{1}\\\\x_{2}\\end{matrix}\\right]$"
      ],
      "text/plain": [
       "Matrix([\n",
       "[x_0],\n",
       "[x_1],\n",
       "[x_2]])"
      ]
     },
     "execution_count": 8,
     "metadata": {},
     "output_type": "execute_result"
    }
   ],
   "source": [
    "X, x0, x1, x2 = sm.symbols('X x_0 x_1 x_2', real=True)\n",
    "X = sm.Matrix([x0, x1, x2])\n",
    "X"
   ]
  },
  {
   "cell_type": "code",
   "execution_count": 9,
   "metadata": {},
   "outputs": [],
   "source": [
    "F = sm.Matrix([[x0 + 2*x2],\n",
    "           [3*x0 + 10*x1 + 9*x2],\n",
    "           [1*x1]])\n"
   ]
  },
  {
   "cell_type": "code",
   "execution_count": 10,
   "metadata": {},
   "outputs": [],
   "source": [
    "X0 = sm.Matrix([0.1, 0.1, 0.1])"
   ]
  },
  {
   "cell_type": "code",
   "execution_count": 11,
   "metadata": {},
   "outputs": [
    {
     "name": "stdout",
     "output_type": "stream",
     "text": [
      "Success. Number of iterations: 0\n",
      "x = Matrix([[-8.32667268468867e-17], [0], [2.77555756156289e-17]])\n"
     ]
    },
    {
     "data": {
      "text/latex": [
       "$\\displaystyle \\left[\\begin{matrix}-8.32667268468867 \\cdot 10^{-17}\\\\0\\\\2.77555756156289 \\cdot 10^{-17}\\end{matrix}\\right]$"
      ],
      "text/plain": [
       "Matrix([\n",
       "[-8.32667268468867e-17],\n",
       "[                    0],\n",
       "[ 2.77555756156289e-17]])"
      ]
     },
     "execution_count": 11,
     "metadata": {},
     "output_type": "execute_result"
    }
   ],
   "source": [
    "newtonRaphson(F, X, X0)"
   ]
  },
  {
   "cell_type": "code",
   "execution_count": null,
   "metadata": {},
   "outputs": [],
   "source": []
  },
  {
   "cell_type": "code",
   "execution_count": null,
   "metadata": {},
   "outputs": [],
   "source": []
  },
  {
   "cell_type": "code",
   "execution_count": null,
   "metadata": {},
   "outputs": [],
   "source": []
  },
  {
   "cell_type": "code",
   "execution_count": null,
   "metadata": {},
   "outputs": [],
   "source": []
  },
  {
   "cell_type": "code",
   "execution_count": null,
   "metadata": {},
   "outputs": [],
   "source": []
  },
  {
   "cell_type": "code",
   "execution_count": null,
   "metadata": {},
   "outputs": [],
   "source": []
  },
  {
   "cell_type": "code",
   "execution_count": null,
   "metadata": {},
   "outputs": [],
   "source": []
  },
  {
   "cell_type": "code",
   "execution_count": null,
   "metadata": {},
   "outputs": [],
   "source": []
  },
  {
   "cell_type": "code",
   "execution_count": null,
   "metadata": {},
   "outputs": [],
   "source": []
  },
  {
   "cell_type": "code",
   "execution_count": null,
   "metadata": {},
   "outputs": [],
   "source": []
  },
  {
   "cell_type": "code",
   "execution_count": null,
   "metadata": {},
   "outputs": [],
   "source": []
  },
  {
   "cell_type": "code",
   "execution_count": null,
   "metadata": {},
   "outputs": [],
   "source": []
  }
 ],
 "metadata": {
  "kernelspec": {
   "display_name": "Python 3",
   "language": "python",
   "name": "python3"
  },
  "language_info": {
   "codemirror_mode": {
    "name": "ipython",
    "version": 3
   },
   "file_extension": ".py",
   "mimetype": "text/x-python",
   "name": "python",
   "nbconvert_exporter": "python",
   "pygments_lexer": "ipython3",
   "version": "3.7.8"
  }
 },
 "nbformat": 4,
 "nbformat_minor": 4
}
